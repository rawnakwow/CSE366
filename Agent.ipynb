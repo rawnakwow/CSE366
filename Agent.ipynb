{
  "nbformat": 4,
  "nbformat_minor": 0,
  "metadata": {
    "colab": {
      "provenance": [],
      "authorship_tag": "ABX9TyNhfnUqauut62/K22popnc+",
      "include_colab_link": true
    },
    "kernelspec": {
      "name": "python3",
      "display_name": "Python 3"
    },
    "language_info": {
      "name": "python"
    }
  },
  "cells": [
    {
      "cell_type": "markdown",
      "metadata": {
        "id": "view-in-github",
        "colab_type": "text"
      },
      "source": [
        "<a href=\"https://colab.research.google.com/github/rawnakwow/CSE366/blob/main/Agent.ipynb\" target=\"_parent\"><img src=\"https://colab.research.google.com/assets/colab-badge.svg\" alt=\"Open In Colab\"/></a>"
      ]
    },
    {
      "cell_type": "code",
      "execution_count": 1,
      "metadata": {
        "id": "LXjn8jQH_sVL"
      },
      "outputs": [],
      "source": [
        "import random\n",
        "import math\n",
        "import matplotlib.pyplot as plt"
      ]
    },
    {
      "cell_type": "code",
      "source": [
        "def argmaxall(gen):\n",
        "    \"\"\"Returns a list of all elements with the maximal value from the generator.\"\"\"\n",
        "    maxv = -math.inf\n",
        "    maxvals = []\n",
        "    for (e, v) in gen:\n",
        "        if v > maxv:\n",
        "            maxvals, maxv = [e], v\n",
        "        elif v == maxv:\n",
        "            maxvals.append(e)\n",
        "    return maxvals"
      ],
      "metadata": {
        "id": "6FBiGC1BEafx"
      },
      "execution_count": 2,
      "outputs": []
    },
    {
      "cell_type": "code",
      "source": [
        "def argmaxe(gen):\n",
        "    \"\"\"Returns an element with the maximal value from the generator, chosen randomly if there are multiple.\"\"\"\n",
        "    return random.choice(argmaxall(gen))"
      ],
      "metadata": {
        "id": "U-BiHvfUEdkh"
      },
      "execution_count": 3,
      "outputs": []
    },
    {
      "cell_type": "code",
      "source": [
        "def select_from_dist(item_prob_dist):\n",
        "    \"\"\"Returns a value from a probability distribution.\"\"\"\n",
        "    ranreal = random.random()\n",
        "    cumulative_prob = 0.0\n",
        "    for (it, prob) in item_prob_dist.items():\n",
        "        cumulative_prob += prob\n",
        "        if ranreal < cumulative_prob:\n",
        "            return it\n",
        "    raise RuntimeError(f\"{item_prob_dist} is not a probability distribution\")"
      ],
      "metadata": {
        "id": "561RgtZNEiDR"
      },
      "execution_count": 4,
      "outputs": []
    },
    {
      "cell_type": "code",
      "source": [
        "class Displayable(object):\n",
        "    \"\"\"Class that uses 'display'.\"\"\"\n",
        "    max_display_level = 1   # can be overridden in subclasses or instances\n",
        "\n",
        "    def display(self, level, *args, **nargs):\n",
        "        \"\"\"Print the arguments if level is less than or equal to the current max_display_level.\"\"\"\n",
        "        if level <= self.max_display_level:\n",
        "            print(*args, **nargs)"
      ],
      "metadata": {
        "id": "6TITqpeBEkow"
      },
      "execution_count": 5,
      "outputs": []
    },
    {
      "cell_type": "code",
      "source": [
        "class Plot_history(object):\n",
        "    \"\"\"Set up the plot for the history of price and number in stock.\"\"\"\n",
        "    def __init__(self, ag, env):\n",
        "        self.ag = ag\n",
        "        self.env = env\n",
        "        plt.ion()  # interactive mode for real-time plotting\n",
        "        plt.xlabel(\"Time\")\n",
        "        plt.ylabel(\"Value\")\n",
        "\n",
        "    def plot_env_hist(self):\n",
        "        \"\"\"Plot history of price and stock.\"\"\"\n",
        "        num = len(self.env.stock_history)\n",
        "        plt.plot(range(num), self.env.price_history, label=\"Price\")\n",
        "        plt.plot(range(num), self.env.stock_history, label=\"In stock\")\n",
        "        plt.legend()\n",
        "\n",
        "    def plot_agent_hist(self):\n",
        "        \"\"\"Plot history of buying.\"\"\"\n",
        "        num = len(self.ag.buy_history)\n",
        "        plt.bar(range(1, num + 1), self.ag.buy_history, label=\"Bought\")\n",
        "        plt.legend()"
      ],
      "metadata": {
        "id": "ZnIo--SCEtEj"
      },
      "execution_count": 6,
      "outputs": []
    },
    {
      "cell_type": "code",
      "source": [
        "class Agent(Displayable):\n",
        "    def initial_action(self, percept):\n",
        "        \"\"\"Return the initial action.\"\"\"\n",
        "        return self.select_action(percept)  # same as select_action\n",
        "\n",
        "    def select_action(self, percept):\n",
        "        \"\"\"Return the next action (and update internal state) given percept.\"\"\"\n",
        "        raise NotImplementedError(\"go\")  # abstract method"
      ],
      "metadata": {
        "id": "agVnmhC9EwpH"
      },
      "execution_count": 7,
      "outputs": []
    },
    {
      "cell_type": "code",
      "source": [
        "class Environment(Displayable):\n",
        "    def initial_percept(self):\n",
        "        \"\"\"Returns the initial percept for the agent.\"\"\"\n",
        "        raise NotImplementedError(\"initial_percept\")  # abstract method\n",
        "\n",
        "    def do(self, action):\n",
        "        \"\"\"Does the action (buy) and returns the next percept.\"\"\"\n",
        "        raise NotImplementedError(\"Environment.do\")  # abstract method"
      ],
      "metadata": {
        "id": "x0jqmbEYEz5a"
      },
      "execution_count": 8,
      "outputs": []
    },
    {
      "cell_type": "code",
      "source": [
        "class Simulate(Displayable):\n",
        "    \"\"\"Simulate the interaction between the agent and the environment for n time steps.\"\"\"\n",
        "    def __init__(self, agent, environment):\n",
        "        self.agent = agent\n",
        "        self.env = environment\n",
        "        self.percept = self.env.initial_percept()\n",
        "        self.percept_history = [self.percept]\n",
        "        self.action_history = []\n",
        "\n",
        "    def go(self, n):\n",
        "        for i in range(n):\n",
        "            action = self.agent.select_action(self.percept)\n",
        "            print(f\"i={i} action={action}\")\n",
        "            self.percept = self.env.do(action, i)\n",
        "            print(f\"      percept={self.percept}\")"
      ],
      "metadata": {
        "id": "2_Qr1LEMEz6e"
      },
      "execution_count": 9,
      "outputs": []
    },
    {
      "cell_type": "code",
      "source": [
        "class SmartphoneEnv(Environment):\n",
        "    price_delta = [0, 0, 0, 21, 0, 20, 0, -64, 0, 0, 23, 0, 0, 0, -35,\n",
        "                  0, 76, 0, -41, 0, 0, 0, 21, 0, 5, 0, 5, 0, 0, 0, 5, 0, -15, 0, 5,\n",
        "                  0, 5, 0, -115, 0, 115, 0, 5, 0, -15, 0, 5, 0, 5, 0, 0, 0, 5, 0,\n",
        "                  -59, 0, 44, 0, 5, 0, 5, 0, 0, 0, 5, 0, -65, 50, 0, 5, 0, 5, 0, 0,\n",
        "                  0, 5, 0]\n",
        "    sd = 5  # noise standard deviation\n",
        "\n",
        "    def __init__(self):\n",
        "        self.time = 0\n",
        "        self.stock = 20\n",
        "        self.stock_history = []  # memory of the stock history\n",
        "        self.price_history = []  # memory of the price history\n",
        "\n",
        "    def initial_percept(self):\n",
        "        \"\"\"Return initial percept.\"\"\"\n",
        "        self.stock_history.append(self.stock)\n",
        "        self.price = round(234 + self.sd * random.gauss(0, 1))\n",
        "        self.price_history.append(self.price)\n",
        "        return {'price': self.price, 'instock': self.stock}\n",
        "\n",
        "    def do(self, action, time_unit):\n",
        "        \"\"\"Performs the action (buy) and returns percept consisting of price and instock.\"\"\"\n",
        "        used = select_from_dist({6: 0.1, 5: 0.1, 4: 0.1, 3: 0.3, 2: 0.2, 1: 0.2})\n",
        "        bought = action['buy']\n",
        "        self.stock = self.stock + bought - used\n",
        "        self.stock_history.append(self.stock)\n",
        "        self.time += 1\n",
        "        self.price = round(self.price + self.price_delta[self.time % len(self.price_delta)]\n",
        "                           + self.sd * random.gauss(0, 1))  # price fluctuates\n",
        "        self.price_history.append(self.price)\n",
        "        return {'price': self.price, 'instock': self.stock}"
      ],
      "metadata": {
        "id": "6hHZWo8rE57S"
      },
      "execution_count": 10,
      "outputs": []
    },
    {
      "cell_type": "code",
      "source": [
        "class SmartphoneAgent(Agent):\n",
        "    def __init__(self):\n",
        "        self.spent = 0\n",
        "        percept = env.initial_percept()\n",
        "        self.ave = self.last_price = percept['price']\n",
        "        self.instock = percept['instock']\n",
        "        self.buy_history = []\n",
        "\n",
        "    def select_action(self, percept):\n",
        "        \"\"\"Returns next action to carry out.\"\"\"\n",
        "        self.last_price = percept['price']\n",
        "        self.ave = self.ave + (self.last_price - self.ave) * 0.05  # smooth average\n",
        "        self.instock = percept['instock']\n",
        "        if self.last_price < 0.8 * self.ave and self.instock < 60:\n",
        "            tobuy = 48  # order 48 units if price is 20% below average and stock is below 60\n",
        "        elif self.instock < 12:\n",
        "            tobuy = 12  # order 12 units if stock is below 12\n",
        "        else:\n",
        "            tobuy = 0  # no order if none of the conditions are met\n",
        "        self.spent += tobuy * self.last_price\n",
        "        self.buy_history.append(tobuy)\n",
        "        return {'buy': tobuy}"
      ],
      "metadata": {
        "id": "ho7KK-yqE6Au"
      },
      "execution_count": 11,
      "outputs": []
    },
    {
      "cell_type": "code",
      "source": [
        "# Initialize environment and agent\n",
        "env = SmartphoneEnv()\n",
        "ag = SmartphoneAgent()\n",
        "\n",
        "# Simulate the environment and agent interaction\n",
        "sim = Simulate(ag, env)\n",
        "sim.go(10)  # Simulate for 10 time steps\n",
        "\n",
        "# Display the results\n",
        "print(f\"Average spent per time step: {ag.spent / env.time}\")\n",
        "\n",
        "# Plot the results\n",
        "plot_history = Plot_history(ag, env)\n",
        "plot_history.plot_env_hist()\n",
        "plt.show()  # Show the plot"
      ],
      "metadata": {
        "colab": {
          "base_uri": "https://localhost:8080/",
          "height": 814
        },
        "id": "avgdBXICFAjp",
        "outputId": "4343b41f-f7e9-4fef-d9bb-d2d5b361a636"
      },
      "execution_count": 12,
      "outputs": [
        {
          "output_type": "stream",
          "name": "stdout",
          "text": [
            "i=0 action={'buy': 0}\n",
            "      percept={'price': 238, 'instock': 19}\n",
            "i=1 action={'buy': 0}\n",
            "      percept={'price': 241, 'instock': 15}\n",
            "i=2 action={'buy': 0}\n",
            "      percept={'price': 261, 'instock': 12}\n",
            "i=3 action={'buy': 0}\n",
            "      percept={'price': 260, 'instock': 6}\n",
            "i=4 action={'buy': 12}\n",
            "      percept={'price': 276, 'instock': 14}\n",
            "i=5 action={'buy': 0}\n",
            "      percept={'price': 281, 'instock': 8}\n",
            "i=6 action={'buy': 12}\n",
            "      percept={'price': 213, 'instock': 19}\n",
            "i=7 action={'buy': 0}\n",
            "      percept={'price': 217, 'instock': 18}\n",
            "i=8 action={'buy': 0}\n",
            "      percept={'price': 219, 'instock': 12}\n",
            "i=9 action={'buy': 0}\n",
            "      percept={'price': 244, 'instock': 7}\n",
            "Average spent per time step: 649.2\n"
          ]
        },
        {
          "output_type": "display_data",
          "data": {
            "text/plain": [
              "<Figure size 640x480 with 1 Axes>"
            ],
            "image/png": "[encoded data removed]"
          },
          "metadata": {}
        }
      ]
    }
  ]
}